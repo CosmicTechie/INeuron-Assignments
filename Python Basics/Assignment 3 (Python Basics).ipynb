{
 "cells": [
  {
   "cell_type": "markdown",
   "id": "incorporated-cradle",
   "metadata": {},
   "source": [
    "### 1. Why are functions advantageous to have in your programs?"
   ]
  },
  {
   "cell_type": "markdown",
   "id": "perfect-maine",
   "metadata": {},
   "source": [
    "##### There are situations when we need to use the same code again and again to perform a specific task again and with different values to it, Here, functions come to rescue. Functions help us to reduce the code length. Functions serve the code reusablility. The modification becomes easy as just need to update the function and it's functionality updates wherever used by calling it. Less and clean code."
   ]
  },
  {
   "cell_type": "code",
   "execution_count": 2,
   "id": "ahead-bacteria",
   "metadata": {},
   "outputs": [
    {
     "name": "stdout",
     "output_type": "stream",
     "text": [
      "10\n",
      "18\n"
     ]
    }
   ],
   "source": [
    "# For Example:\n",
    "def add(x,y): # this is a function and name of the function is add\n",
    "    return x+y\n",
    "\n",
    "print(add(5,5)) # Calling the add function\n",
    "print(add(9,9)) # Calling again"
   ]
  },
  {
   "cell_type": "markdown",
   "id": "built-punishment",
   "metadata": {},
   "source": [
    "### 2. When does the code in a function run: when it's specified or when it's called?"
   ]
  },
  {
   "cell_type": "markdown",
   "id": "expressed-privilege",
   "metadata": {},
   "source": [
    "##### The code in the function runs when it is called."
   ]
  },
  {
   "cell_type": "code",
   "execution_count": 6,
   "id": "institutional-slovakia",
   "metadata": {},
   "outputs": [
    {
     "data": {
      "text/plain": [
       "18"
      ]
     },
     "execution_count": 6,
     "metadata": {},
     "output_type": "execute_result"
    }
   ],
   "source": [
    "add(9,9) # Calling a function add and passing values 9,9 as arguments to the function"
   ]
  },
  {
   "cell_type": "markdown",
   "id": "phantom-commitment",
   "metadata": {},
   "source": [
    "### 3. What statement creates a function?"
   ]
  },
  {
   "cell_type": "markdown",
   "id": "dressed-hospital",
   "metadata": {},
   "source": [
    "##### The def is the keyword that is used to define function:\n",
    "    def <function_name>(<parameters>):\n",
    "        <statements>"
   ]
  },
  {
   "cell_type": "code",
   "execution_count": 7,
   "id": "reliable-salmon",
   "metadata": {},
   "outputs": [
    {
     "data": {
      "text/plain": [
       "81"
      ]
     },
     "execution_count": 7,
     "metadata": {},
     "output_type": "execute_result"
    }
   ],
   "source": [
    "def mult(x,y): # mult is the name of function and x,y are the parameters\n",
    "    return(x*y)\n",
    "mult(9,9) # 9,9 are the arguments to the function"
   ]
  },
  {
   "cell_type": "markdown",
   "id": "limiting-cleaner",
   "metadata": {},
   "source": [
    "### 4. What is the difference between a function and a function call?"
   ]
  },
  {
   "cell_type": "markdown",
   "id": "perceived-glucose",
   "metadata": {},
   "source": [
    "##### A function is a block of code consisting statements that are to be executed when function is called."
   ]
  },
  {
   "cell_type": "code",
   "execution_count": 10,
   "id": "miniature-treasure",
   "metadata": {},
   "outputs": [],
   "source": [
    "def hey():\n",
    "    print(\"Hello INeuron Sir\")"
   ]
  },
  {
   "cell_type": "markdown",
   "id": "distributed-holocaust",
   "metadata": {},
   "source": [
    "##### A function call is the statement that is used to call the function to perform a task using the statements inside a defined function. This executes the function block."
   ]
  },
  {
   "cell_type": "code",
   "execution_count": 11,
   "id": "finished-horse",
   "metadata": {},
   "outputs": [
    {
     "name": "stdout",
     "output_type": "stream",
     "text": [
      "Hello INeuron Sir\n"
     ]
    }
   ],
   "source": [
    "hey() # This is function call"
   ]
  },
  {
   "cell_type": "markdown",
   "id": "experimental-inflation",
   "metadata": {},
   "source": [
    "### 5. How many global scopes are there in a Python program? How many local scopes?"
   ]
  },
  {
   "cell_type": "code",
   "execution_count": null,
   "id": "sunset-adelaide",
   "metadata": {},
   "outputs": [],
   "source": []
  }
 ],
 "metadata": {
  "kernelspec": {
   "display_name": "Python 3",
   "language": "python",
   "name": "python3"
  },
  "language_info": {
   "codemirror_mode": {
    "name": "ipython",
    "version": 3
   },
   "file_extension": ".py",
   "mimetype": "text/x-python",
   "name": "python",
   "nbconvert_exporter": "python",
   "pygments_lexer": "ipython3",
   "version": "3.8.8"
  }
 },
 "nbformat": 4,
 "nbformat_minor": 5
}
