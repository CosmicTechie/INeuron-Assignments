{
 "cells": [
  {
   "cell_type": "markdown",
   "id": "better-connection",
   "metadata": {},
   "source": [
    "### 1. What are the differences between operators and values in the following?"
   ]
  },
  {
   "cell_type": "code",
   "execution_count": 1,
   "id": "colored-detective",
   "metadata": {},
   "outputs": [
    {
     "name": "stdout",
     "output_type": "stream",
     "text": [
      "20\n",
      "HelloHello\n"
     ]
    }
   ],
   "source": [
    "''' \n",
    "    * is a multplication operator\n",
    "'''\n",
    "print(4*5)\n",
    "print('Hello'*2)"
   ]
  },
  {
   "cell_type": "code",
   "execution_count": 2,
   "id": "hidden-tribe",
   "metadata": {},
   "outputs": [
    {
     "data": {
      "text/plain": [
       "str"
      ]
     },
     "execution_count": 2,
     "metadata": {},
     "output_type": "execute_result"
    }
   ],
   "source": [
    "'''\n",
    "    'hello' is String object, simply, 'hello' is a String.\n",
    "'''\n",
    "type('hello')"
   ]
  },
  {
   "cell_type": "code",
   "execution_count": 3,
   "id": "raised-impossible",
   "metadata": {},
   "outputs": [
    {
     "data": {
      "text/plain": [
       "float"
      ]
     },
     "execution_count": 3,
     "metadata": {},
     "output_type": "execute_result"
    }
   ],
   "source": [
    "'''\n",
    "    -87.8 is a numeric value of type float\n",
    "'''\n",
    "type(-87.8)"
   ]
  },
  {
   "cell_type": "code",
   "execution_count": 4,
   "id": "committed-domain",
   "metadata": {},
   "outputs": [
    {
     "name": "stdout",
     "output_type": "stream",
     "text": [
      "95\n"
     ]
    }
   ],
   "source": [
    "'''\n",
    "    - is an arithematic operator used for subtraction operations\n",
    "'''\n",
    "print(100-5)"
   ]
  },
  {
   "cell_type": "code",
   "execution_count": 5,
   "id": "public-medicare",
   "metadata": {},
   "outputs": [
    {
     "name": "stdout",
     "output_type": "stream",
     "text": [
      "0.5\n"
     ]
    }
   ],
   "source": [
    "'''\n",
    "    / is an arithematic operator for division, it gives a float output\n",
    "'''\n",
    "print(1/2)"
   ]
  },
  {
   "cell_type": "code",
   "execution_count": 6,
   "id": "dying-cross",
   "metadata": {},
   "outputs": [
    {
     "name": "stdout",
     "output_type": "stream",
     "text": [
      "198\n",
      "Demascus\n"
     ]
    }
   ],
   "source": [
    "'''\n",
    "    + is an operator used for addition and concatenation \n",
    "'''\n",
    "print(99+99)\n",
    "print(\"Dema\" + \"scus\")"
   ]
  },
  {
   "cell_type": "code",
   "execution_count": 7,
   "id": "acceptable-volunteer",
   "metadata": {},
   "outputs": [
    {
     "data": {
      "text/plain": [
       "int"
      ]
     },
     "execution_count": 7,
     "metadata": {},
     "output_type": "execute_result"
    }
   ],
   "source": [
    "'''\n",
    "    6 is an interger value\n",
    "'''\n",
    "type(6)"
   ]
  },
  {
   "cell_type": "markdown",
   "id": "grateful-liabilities",
   "metadata": {},
   "source": [
    "### 2. What is the difference between string and variable?\n",
    "##### String is a data type whereas  Variables are  reserved memory locations to store values. A variable is an identifier to a value in memory."
   ]
  },
  {
   "cell_type": "code",
   "execution_count": 8,
   "id": "unlike-firewall",
   "metadata": {},
   "outputs": [
    {
     "data": {
      "text/plain": [
       "str"
      ]
     },
     "execution_count": 8,
     "metadata": {},
     "output_type": "execute_result"
    }
   ],
   "source": [
    "spam=\"Hello INeuron\" # spam is a variable\n",
    "a='spam' # here 'spam' is a string stored in variable a \n",
    "type(a)"
   ]
  },
  {
   "cell_type": "markdown",
   "id": "square-music",
   "metadata": {},
   "source": [
    "### 3. Describe three different data forms."
   ]
  },
  {
   "cell_type": "markdown",
   "id": "registered-negotiation",
   "metadata": {},
   "source": [
    "##### 1. Numeric\n",
    "    Numeric datatypes are used to store numeric values.\n",
    "    There are different numeric types:\n",
    "    Integer\n",
    "    Float\n",
    "    Complex\n",
    "##### 2. String\n",
    "    A string is a sequence of characters. We can create a string by enclosing characters in quote. ' ' or \" \"\n",
    "##### 3. Boolean\n",
    "    Boolean represent the truth values : True and False"
   ]
  },
  {
   "cell_type": "markdown",
   "id": "rough-crest",
   "metadata": {},
   "source": [
    "### 4. What makes up an expression? What are the functions of all expressions?\n",
    "##### When multiple operators are used  in a single statement to perform operations, we use an expression:  \n",
    "    Example : j=78*87/45+78-(11%5)/2\n",
    "    Operator Precedence rules: Parentheses---->Exponent---->Multiplication/Division/Remainder---->Addition and Subtraction\n",
    "    If same operator in the expression, the precedence consideration is from left to right"
   ]
  },
  {
   "cell_type": "code",
   "execution_count": 9,
   "id": "genuine-intro",
   "metadata": {},
   "outputs": [
    {
     "name": "stdout",
     "output_type": "stream",
     "text": [
      "230.53333333333333\n"
     ]
    }
   ],
   "source": [
    "a=88\n",
    "b=10\n",
    "j=78*a/45+78-(b%5)/2 # Expression can contain constants, operators and variables\n",
    "print(j)"
   ]
  },
  {
   "cell_type": "markdown",
   "id": "superior-posting",
   "metadata": {},
   "source": [
    "### 5. In this chapter, assignment statements such as spam = 10 were added. What's the difference between a declaration and an expression?\n",
    "**Python doesn't require variable declaration, we simply assign value to a variable and it's done. Python doesn't require the data type to be mentioned while assigning value. Python is intelligent enough to determine the type.**"
   ]
  },
  {
   "cell_type": "code",
   "execution_count": 10,
   "id": "transparent-region",
   "metadata": {},
   "outputs": [
    {
     "name": "stdout",
     "output_type": "stream",
     "text": [
      "100\n"
     ]
    }
   ],
   "source": [
    "spam=10 # It is an assigment statement where the RHS value 10 is stored in the variable spam\n",
    "q=90\n",
    "a= spam + q # As per this expression,the Right Hand Side is evaluated and the solution is stored in variable a\n",
    "print(a)"
   ]
  },
  {
   "cell_type": "markdown",
   "id": "inclusive-issue",
   "metadata": {},
   "source": [
    "### 6. After running the following code, what does the variable bacon contain?\n",
    "    bacon = 22\n",
    "    bacon + 1"
   ]
  },
  {
   "cell_type": "code",
   "execution_count": 11,
   "id": "active-relation",
   "metadata": {},
   "outputs": [
    {
     "name": "stdout",
     "output_type": "stream",
     "text": [
      "23\n"
     ]
    }
   ],
   "source": [
    "bacon = 22\n",
    "print(bacon + 1)"
   ]
  },
  {
   "cell_type": "markdown",
   "id": "straight-pilot",
   "metadata": {},
   "source": [
    "### 7. What should the values of the following two terms be?\n",
    "    'spam' + 'spamspam'\n",
    "    'spam' * 3"
   ]
  },
  {
   "cell_type": "code",
   "execution_count": 12,
   "id": "upset-artist",
   "metadata": {},
   "outputs": [
    {
     "name": "stdout",
     "output_type": "stream",
     "text": [
      "spamspamspam\n",
      "spamspamspam\n"
     ]
    }
   ],
   "source": [
    "print('spam'+'spamspam')\n",
    "print('spam'*3)"
   ]
  },
  {
   "cell_type": "markdown",
   "id": "similar-equilibrium",
   "metadata": {},
   "source": [
    "### 8. Why is it that eggs is a true variable name but 100 is not?\n",
    "\n",
    "##### It is because of the rule that variables/Identifiers cannot be intitiated with a number and can only have alphabets, numbers and underscore.\n",
    "\n",
    "    egg starts with an alphabet and 100 is a number which cannot be puts as varibale."
   ]
  },
  {
   "cell_type": "markdown",
   "id": "basic-partition",
   "metadata": {},
   "source": [
    "### 9. Which of the following three functions may be used to convert a value to an integer, a floating-point number, or a string?"
   ]
  },
  {
   "cell_type": "markdown",
   "id": "contrary-calgary",
   "metadata": {},
   "source": [
    "##### We can simply pass the pass the values to int() to get integer, float() to get floating point and str()  for string"
   ]
  },
  {
   "cell_type": "code",
   "execution_count": 13,
   "id": "documentary-license",
   "metadata": {},
   "outputs": [
    {
     "name": "stdout",
     "output_type": "stream",
     "text": [
      "a is  <class 'int'>\n",
      "b is  <class 'float'>\n",
      "c is  <class 'str'>\n"
     ]
    }
   ],
   "source": [
    "a=int(10)\n",
    "print(\"a is \",type(a))\n",
    "b= float(a)\n",
    "print(\"b is \",type(b))\n",
    "c=str(b)\n",
    "print(\"c is \",type(c))"
   ]
  },
  {
   "cell_type": "markdown",
   "id": "eleven-acrobat",
   "metadata": {},
   "source": [
    "### 10. What is the error caused by this expression? What would you do about it?\n",
    "    'I have eaten ' + 99 + ' burritos.'\n",
    "##### We cannot concatenate the string object with a numeric object. We need to convert the numeric value to string."
   ]
  },
  {
   "cell_type": "code",
   "execution_count": 14,
   "id": "numerical-edwards",
   "metadata": {},
   "outputs": [
    {
     "ename": "TypeError",
     "evalue": "can only concatenate str (not \"int\") to str",
     "output_type": "error",
     "traceback": [
      "\u001b[1;31m---------------------------------------------------------------------------\u001b[0m",
      "\u001b[1;31mTypeError\u001b[0m                                 Traceback (most recent call last)",
      "\u001b[1;32m<ipython-input-14-d24137131a5c>\u001b[0m in \u001b[0;36m<module>\u001b[1;34m\u001b[0m\n\u001b[1;32m----> 1\u001b[1;33m \u001b[1;34m'I have eaten '\u001b[0m \u001b[1;33m+\u001b[0m \u001b[1;36m99\u001b[0m \u001b[1;33m+\u001b[0m \u001b[1;34m' burritos.'\u001b[0m\u001b[1;33m\u001b[0m\u001b[1;33m\u001b[0m\u001b[0m\n\u001b[0m",
      "\u001b[1;31mTypeError\u001b[0m: can only concatenate str (not \"int\") to str"
     ]
    }
   ],
   "source": [
    "'I have eaten ' + 99 + ' burritos.'"
   ]
  },
  {
   "cell_type": "code",
   "execution_count": 15,
   "id": "sporting-terminal",
   "metadata": {},
   "outputs": [
    {
     "data": {
      "text/plain": [
       "'I have eaten 99 burritos.'"
      ]
     },
     "execution_count": 15,
     "metadata": {},
     "output_type": "execute_result"
    }
   ],
   "source": [
    "'I have eaten ' + str(99) + ' burritos.' #Type conversion to string"
   ]
  },
  {
   "cell_type": "code",
   "execution_count": null,
   "id": "satellite-australia",
   "metadata": {},
   "outputs": [],
   "source": []
  }
 ],
 "metadata": {
  "kernelspec": {
   "display_name": "Python 3",
   "language": "python",
   "name": "python3"
  },
  "language_info": {
   "codemirror_mode": {
    "name": "ipython",
    "version": 3
   },
   "file_extension": ".py",
   "mimetype": "text/x-python",
   "name": "python",
   "nbconvert_exporter": "python",
   "pygments_lexer": "ipython3",
   "version": "3.8.8"
  }
 },
 "nbformat": 4,
 "nbformat_minor": 5
}
