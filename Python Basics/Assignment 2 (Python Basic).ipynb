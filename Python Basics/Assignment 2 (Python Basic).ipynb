{
 "cells": [
  {
   "cell_type": "markdown",
   "id": "homeless-specific",
   "metadata": {},
   "source": [
    "### 1. What are the Boolean data type's two values? How do you go about writing them?"
   ]
  },
  {
   "cell_type": "markdown",
   "id": "sixth-posting",
   "metadata": {},
   "source": [
    "##### Boolean data type include two values: True and False"
   ]
  },
  {
   "cell_type": "code",
   "execution_count": 1,
   "id": "planned-august",
   "metadata": {},
   "outputs": [
    {
     "name": "stdout",
     "output_type": "stream",
     "text": [
      "<class 'bool'>\n"
     ]
    }
   ],
   "source": [
    "a=True #Boolean type\n",
    "print(type(a))"
   ]
  },
  {
   "cell_type": "code",
   "execution_count": 2,
   "id": "czech-logistics",
   "metadata": {},
   "outputs": [
    {
     "name": "stdout",
     "output_type": "stream",
     "text": [
      "True\n",
      "False\n"
     ]
    }
   ],
   "source": [
    "val1=99\n",
    "val2=99\n",
    "val3=98\n",
    "print(val1==val2) # Gives boolean output\n",
    "print(val1==val3)"
   ]
  },
  {
   "cell_type": "code",
   "execution_count": 3,
   "id": "homeless-seller",
   "metadata": {},
   "outputs": [
    {
     "data": {
      "text/plain": [
       "3"
      ]
     },
     "execution_count": 3,
     "metadata": {},
     "output_type": "execute_result"
    }
   ],
   "source": [
    "True+True+False+True # 1+1+0+1"
   ]
  },
  {
   "cell_type": "markdown",
   "id": "aboriginal-camcorder",
   "metadata": {},
   "source": [
    "### 2. What are the three different types of Boolean operators?"
   ]
  },
  {
   "cell_type": "markdown",
   "id": "nutritional-affairs",
   "metadata": {},
   "source": [
    "##### Boolean Operators are:\n",
    "    and\n",
    "    or\n",
    "    not"
   ]
  },
  {
   "cell_type": "code",
   "execution_count": 4,
   "id": "future-mistake",
   "metadata": {},
   "outputs": [
    {
     "name": "stdout",
     "output_type": "stream",
     "text": [
      "True\n",
      "False\n",
      "False\n"
     ]
    }
   ],
   "source": [
    "a=88\n",
    "b=89\n",
    "print(a>85 and a<90) #Both the statements need to be true\n",
    "print(a<85 and a<90)\n",
    "print(True and False)"
   ]
  },
  {
   "cell_type": "code",
   "execution_count": 5,
   "id": "foster-leeds",
   "metadata": {},
   "outputs": [
    {
     "name": "stdout",
     "output_type": "stream",
     "text": [
      "True\n",
      "False\n",
      "True\n"
     ]
    }
   ],
   "source": [
    "print(a<85 or a<90) #Any of the statement need to be true\n",
    "print(a<85 or a<79)\n",
    "print(True or False)"
   ]
  },
  {
   "cell_type": "code",
   "execution_count": 6,
   "id": "criminal-field",
   "metadata": {},
   "outputs": [
    {
     "name": "stdout",
     "output_type": "stream",
     "text": [
      "False\n",
      "True\n",
      "False\n"
     ]
    }
   ],
   "source": [
    "print(not(a>85)) # Gives False when inner statement is True\n",
    "print(not(a<85))\n",
    "print(not True)"
   ]
  },
  {
   "cell_type": "markdown",
   "id": "directed-rocket",
   "metadata": {},
   "source": [
    "### 3. Make a list of each Boolean operator's truth tables (i.e. every possible combination of Boolean values for the operator and what it evaluate )."
   ]
  },
  {
   "cell_type": "markdown",
   "id": "reduced-spider",
   "metadata": {},
   "source": [
    "##### and operator"
   ]
  },
  {
   "cell_type": "code",
   "execution_count": 7,
   "id": "fundamental-bulletin",
   "metadata": {},
   "outputs": [
    {
     "name": "stdout",
     "output_type": "stream",
     "text": [
      "True  and True  : True\n",
      "True  and False : False\n",
      "False and True  : False\n",
      "False and False : False\n"
     ]
    }
   ],
   "source": [
    "print(\"True  and True  :\",True and True)\n",
    "print(\"True  and False :\",True and False)\n",
    "print(\"False and True  :\",False and True)\n",
    "print(\"False and False :\",False and False)"
   ]
  },
  {
   "cell_type": "markdown",
   "id": "competent-secretariat",
   "metadata": {},
   "source": [
    "##### or operator"
   ]
  },
  {
   "cell_type": "code",
   "execution_count": 8,
   "id": "juvenile-finnish",
   "metadata": {},
   "outputs": [
    {
     "name": "stdout",
     "output_type": "stream",
     "text": [
      "True  or True  : True\n",
      "True  or False : True\n",
      "False or True  : True\n",
      "False or False : False\n"
     ]
    }
   ],
   "source": [
    "print(\"True  or True  :\",True or True)\n",
    "print(\"True  or False :\",True or False)\n",
    "print(\"False or True  :\",False or True)\n",
    "print(\"False or False :\",False or False)"
   ]
  },
  {
   "cell_type": "markdown",
   "id": "cross-playback",
   "metadata": {},
   "source": [
    "##### nor operator"
   ]
  },
  {
   "cell_type": "code",
   "execution_count": 9,
   "id": "dress-thought",
   "metadata": {},
   "outputs": [
    {
     "name": "stdout",
     "output_type": "stream",
     "text": [
      "not True  : False\n",
      "not False : True\n"
     ]
    }
   ],
   "source": [
    "print(\"not True  :\",not True)\n",
    "print(\"not False :\",not False)"
   ]
  },
  {
   "cell_type": "markdown",
   "id": "dominican-effect",
   "metadata": {},
   "source": [
    "### 4. What are the values of the following expressions?"
   ]
  },
  {
   "cell_type": "markdown",
   "id": "southeast-tyler",
   "metadata": {},
   "source": [
    "##### (5 > 4) and (3 == 5) "
   ]
  },
  {
   "cell_type": "code",
   "execution_count": 10,
   "id": "arbitrary-forwarding",
   "metadata": {},
   "outputs": [
    {
     "data": {
      "text/plain": [
       "False"
      ]
     },
     "execution_count": 10,
     "metadata": {},
     "output_type": "execute_result"
    }
   ],
   "source": [
    "(5 > 4) and (3 == 5) # Here First condition is True but Second is False, So, it gives False"
   ]
  },
  {
   "cell_type": "markdown",
   "id": "monetary-supervisor",
   "metadata": {},
   "source": [
    "##### not (5 > 4)"
   ]
  },
  {
   "cell_type": "code",
   "execution_count": 11,
   "id": "sublime-ozone",
   "metadata": {},
   "outputs": [
    {
     "data": {
      "text/plain": [
       "False"
      ]
     },
     "execution_count": 11,
     "metadata": {},
     "output_type": "execute_result"
    }
   ],
   "source": [
    "not (5 > 4) # The inner Condition is True but not makes it give output False"
   ]
  },
  {
   "cell_type": "markdown",
   "id": "together-crime",
   "metadata": {},
   "source": [
    "##### (5 > 4) or (3 == 5)"
   ]
  },
  {
   "cell_type": "code",
   "execution_count": 12,
   "id": "sustained-marriage",
   "metadata": {},
   "outputs": [
    {
     "data": {
      "text/plain": [
       "True"
      ]
     },
     "execution_count": 12,
     "metadata": {},
     "output_type": "execute_result"
    }
   ],
   "source": [
    "(5 > 4) or (3 == 5) # First condition is True, or gives True even when any of the two conditions is true"
   ]
  },
  {
   "cell_type": "markdown",
   "id": "adolescent-interaction",
   "metadata": {},
   "source": [
    "##### not ((5 > 4) or (3 == 5))"
   ]
  },
  {
   "cell_type": "code",
   "execution_count": 13,
   "id": "grave-configuration",
   "metadata": {},
   "outputs": [
    {
     "data": {
      "text/plain": [
       "False"
      ]
     },
     "execution_count": 13,
     "metadata": {},
     "output_type": "execute_result"
    }
   ],
   "source": [
    "not ((5 > 4) or (3 == 5))# The or Statement gives True , then not makes it give False"
   ]
  },
  {
   "cell_type": "markdown",
   "id": "bulgarian-collar",
   "metadata": {},
   "source": [
    "##### (True and True) and (True == False)"
   ]
  },
  {
   "cell_type": "code",
   "execution_count": 14,
   "id": "antique-fireplace",
   "metadata": {},
   "outputs": [
    {
     "data": {
      "text/plain": [
       "False"
      ]
     },
     "execution_count": 14,
     "metadata": {},
     "output_type": "execute_result"
    }
   ],
   "source": [
    "(True and True) and (True == False) # It gives False"
   ]
  },
  {
   "cell_type": "markdown",
   "id": "friendly-mercy",
   "metadata": {},
   "source": [
    "##### (not False) or (not True)"
   ]
  },
  {
   "cell_type": "code",
   "execution_count": 15,
   "id": "demonstrated-editor",
   "metadata": {},
   "outputs": [
    {
     "data": {
      "text/plain": [
       "True"
      ]
     },
     "execution_count": 15,
     "metadata": {},
     "output_type": "execute_result"
    }
   ],
   "source": [
    "(not False) or (not True) # It gives True"
   ]
  },
  {
   "cell_type": "markdown",
   "id": "mathematical-romance",
   "metadata": {},
   "source": [
    "### 5. What are the six different types of reference operators?"
   ]
  },
  {
   "cell_type": "markdown",
   "id": "incoming-amateur",
   "metadata": {},
   "source": [
    "\n",
    "|Operator|Operation|\n",
    "|-----|-----|\n",
    "|a==b|Equal to|\n",
    "|a!=b|Not Equal to|\n",
    "|a>b|Greater than|\n",
    "|a<b|Less than|\n",
    "|a>=b|Greater than or equal to|\n",
    "|a<=b|Less than or equal to|"
   ]
  },
  {
   "cell_type": "code",
   "execution_count": 16,
   "id": "warming-norwegian",
   "metadata": {},
   "outputs": [
    {
     "name": "stdout",
     "output_type": "stream",
     "text": [
      "98==98:  True\n",
      "96!=97:  True\n",
      "97>97 :  False\n",
      "97<99 :  True\n",
      "99>=97:  True\n",
      "97<=94:  False\n"
     ]
    }
   ],
   "source": [
    "print(\"98==98: \",98==98)\n",
    "print(\"96!=97: \",96!=97)\n",
    "print(\"97>97 : \",97>97)\n",
    "print(\"97<99 : \",97<99)\n",
    "print(\"99>=97: \",97>=97)\n",
    "print(\"97<=94: \",97<=94)"
   ]
  },
  {
   "cell_type": "markdown",
   "id": "affected-enhancement",
   "metadata": {},
   "source": [
    "### 6. How do you tell the difference between the equal to and assignment operators?"
   ]
  },
  {
   "cell_type": "markdown",
   "id": "ordered-morgan",
   "metadata": {},
   "source": [
    "##### Equal to (=) is also an assignment operator wheresas when we use equal to equal to operator (==) it is a comparison operator which checks whether one value is equal to other or not. \"==\" is usually is used in a condition. The assignment operators are used to assign a value to a variable.\n",
    "|Operation|Equivalent|\n",
    "|-----|-----|\n",
    "|a=a+b|a+=b|\n",
    "|a=a-b|a-=b|\n",
    "|a=a*b|a*=b|\n",
    "|a=a/b|a/=b|\n",
    "|a=a**b|a**=b|"
   ]
  },
  {
   "cell_type": "code",
   "execution_count": 17,
   "id": "quality-writing",
   "metadata": {},
   "outputs": [
    {
     "name": "stdout",
     "output_type": "stream",
     "text": [
      "I am printing\n",
      "a=a+b = 8\n",
      "a=a**b= 4096\n"
     ]
    }
   ],
   "source": [
    "if 10==10:\n",
    "    print(\"I am printing\")\n",
    "\n",
    "#Assignment\n",
    "a=4\n",
    "b=4\n",
    "a+=b # a=a+b\n",
    "print(\"a=a+b =\",a)\n",
    "a**=b # a=a**b\n",
    "print(\"a=a**b=\",a)"
   ]
  },
  {
   "cell_type": "markdown",
   "id": "special-roller",
   "metadata": {},
   "source": [
    "### 7. Describe a condition and when you would use one."
   ]
  },
  {
   "cell_type": "markdown",
   "id": "automatic-channels",
   "metadata": {},
   "source": [
    "##### Condition can be considered as a situation that is to be passed in order to move further."
   ]
  },
  {
   "cell_type": "code",
   "execution_count": 18,
   "id": "confidential-granny",
   "metadata": {},
   "outputs": [
    {
     "name": "stdout",
     "output_type": "stream",
     "text": [
      "I am printed only when condition: x is less than y\n"
     ]
    }
   ],
   "source": [
    "x=5\n",
    "y=10\n",
    "if x<y:\n",
    "    print(\"I am printed only when condition: x is less than y\")\n",
    "else:\n",
    "    print(\"Bhai kuchh bhi nahin to I still print\")"
   ]
  },
  {
   "cell_type": "markdown",
   "id": "postal-resolution",
   "metadata": {},
   "source": [
    "### 8. Recognize the following three blocks in this code:"
   ]
  },
  {
   "cell_type": "markdown",
   "id": "precious-hayes",
   "metadata": {},
   "source": [
    "##### The blocks in python are identified by the indentation used. As in other languages {} are used, in python indentation is used."
   ]
  },
  {
   "cell_type": "code",
   "execution_count": 19,
   "id": "surprised-ground",
   "metadata": {},
   "outputs": [
    {
     "name": "stdout",
     "output_type": "stream",
     "text": [
      "spam\n"
     ]
    }
   ],
   "source": [
    "spam = 0\n",
    "if spam == 10:\n",
    "    #Block-------------\n",
    "    print('eggs') \n",
    "    if spam > 5:\n",
    "        #Block------------\n",
    "        print('bacon')\n",
    "    else:\n",
    "        #Block------------\n",
    "        print('ham')\n",
    "    print('spam')\n",
    "print('spam')"
   ]
  },
  {
   "cell_type": "markdown",
   "id": "silver-baltimore",
   "metadata": {},
   "source": [
    "### 9. Create a programme that prints. If 1 is stored in spam, prints Hello; if 2 is stored in spam, prints Howdy; and if 3 is stored in spam, prints Salutations! if there's something else in spam."
   ]
  },
  {
   "cell_type": "code",
   "execution_count": 20,
   "id": "strategic-trouble",
   "metadata": {},
   "outputs": [
    {
     "name": "stdout",
     "output_type": "stream",
     "text": [
      "Any value of spam: 2\n",
      "Howdy\n"
     ]
    }
   ],
   "source": [
    "spam=input(\"Any value of spam: \")\n",
    "if spam=='1':\n",
    "    print(\"Hello\")\n",
    "elif spam=='2':\n",
    "    print(\"Howdy\")\n",
    "elif spam=='3':\n",
    "    print(\"Salutations!\")\n",
    "else:\n",
    "    print(\"spam\")"
   ]
  },
  {
   "cell_type": "markdown",
   "id": "pending-panel",
   "metadata": {},
   "source": [
    "### 10.If your programme is stuck in an endless loop, what keys can you press?"
   ]
  },
  {
   "cell_type": "code",
   "execution_count": 21,
   "id": "forward-operations",
   "metadata": {},
   "outputs": [
    {
     "data": {
      "text/plain": [
       "'q=10\\nwhile q<12:\\n    print(\"I am Running\")'"
      ]
     },
     "execution_count": 21,
     "metadata": {},
     "output_type": "execute_result"
    }
   ],
   "source": [
    "'''q=10\n",
    "while q<12:\n",
    "    print(\"I am Running\")'''"
   ]
  },
  {
   "cell_type": "markdown",
   "id": "animal-survey",
   "metadata": {},
   "source": [
    "##### ctrl + c  can be used as keyboard interrupt and we can also interrupt the kernel in case of notebook."
   ]
  },
  {
   "cell_type": "markdown",
   "id": "fluid-recognition",
   "metadata": {},
   "source": [
    "### 11. How can you tell the difference between break and continue?"
   ]
  },
  {
   "cell_type": "markdown",
   "id": "emerging-polls",
   "metadata": {},
   "source": [
    "##### The continue statement ends the current iteration and jumps to the top of the loop and starts the next iteration."
   ]
  },
  {
   "cell_type": "code",
   "execution_count": 22,
   "id": "annual-virus",
   "metadata": {},
   "outputs": [
    {
     "name": "stdout",
     "output_type": "stream",
     "text": [
      "1\n",
      "3\n",
      "5\n",
      "7\n",
      "9\n"
     ]
    }
   ],
   "source": [
    "for i in range(10):\n",
    "    if (i%2==0):\n",
    "        continue\n",
    "        print(i)\n",
    "    else:\n",
    "        print(i)"
   ]
  },
  {
   "cell_type": "markdown",
   "id": "norwegian-antique",
   "metadata": {},
   "source": [
    "##### The break statement ends the current loop and jumps to the statement immediately following the loop."
   ]
  },
  {
   "cell_type": "code",
   "execution_count": 23,
   "id": "early-magnitude",
   "metadata": {},
   "outputs": [
    {
     "name": "stdout",
     "output_type": "stream",
     "text": [
      "0\n",
      "1\n",
      "2\n",
      "3\n",
      "4\n",
      "5\n",
      "break statement stopped the execution of loop and I am being printed\n"
     ]
    }
   ],
   "source": [
    "for i in range(10):\n",
    "    if i>5:\n",
    "        break\n",
    "    else:\n",
    "        print(i)\n",
    "print(\"break statement stopped the execution of loop and I am being printed\")"
   ]
  },
  {
   "cell_type": "markdown",
   "id": "organized-skiing",
   "metadata": {},
   "source": [
    "### 12. In a for loop, what is the difference between range(10), range(0, 10), and range(0, 10, 1)?"
   ]
  },
  {
   "cell_type": "markdown",
   "id": "arbitrary-orbit",
   "metadata": {},
   "source": [
    "###### range(10) : 10 values of indexes from 0 to 9 (0 1 2 3 4 5 6 7 8 9)"
   ]
  },
  {
   "cell_type": "code",
   "execution_count": 24,
   "id": "handy-tucson",
   "metadata": {},
   "outputs": [
    {
     "name": "stdout",
     "output_type": "stream",
     "text": [
      "0 1 2 3 4 5 6 7 8 9 "
     ]
    }
   ],
   "source": [
    "for i in range(10):\n",
    "    print(i, end=\" \") #end is used to prevent new line here"
   ]
  },
  {
   "cell_type": "markdown",
   "id": "norman-snake",
   "metadata": {},
   "source": [
    "###### range(0,10): It is similar to range(10) the initial index 0 to index 9 "
   ]
  },
  {
   "cell_type": "code",
   "execution_count": 25,
   "id": "italian-season",
   "metadata": {},
   "outputs": [
    {
     "name": "stdout",
     "output_type": "stream",
     "text": [
      "0 1 2 3 4 5 6 7 8 9 "
     ]
    }
   ],
   "source": [
    "for i in range(0,10):\n",
    "    print(i, end=\" \") "
   ]
  },
  {
   "cell_type": "markdown",
   "id": "amateur-programming",
   "metadata": {},
   "source": [
    "###### range(0,10,1): In this the the third value decides the step which is 1"
   ]
  },
  {
   "cell_type": "code",
   "execution_count": 26,
   "id": "adult-contribution",
   "metadata": {},
   "outputs": [
    {
     "name": "stdout",
     "output_type": "stream",
     "text": [
      "0 1 2 3 4 5 6 7 8 9 "
     ]
    }
   ],
   "source": [
    "for i in range(0,10,1):\n",
    "    print(i, end=\" \") "
   ]
  },
  {
   "cell_type": "code",
   "execution_count": 27,
   "id": "legislative-ceramic",
   "metadata": {},
   "outputs": [
    {
     "name": "stdout",
     "output_type": "stream",
     "text": [
      "0 2 4 6 8 "
     ]
    }
   ],
   "source": [
    "for i in range(0,10,2): # We can choose the step size\n",
    "    print(i, end=\" \") "
   ]
  },
  {
   "cell_type": "markdown",
   "id": "related-vertical",
   "metadata": {},
   "source": [
    "### 13. Using a for loop, write a short programme that prints the numbers 1 to 10 Then, using a while loop, create an identical programme that prints the numbers 1 to 10."
   ]
  },
  {
   "cell_type": "code",
   "execution_count": 28,
   "id": "forty-dollar",
   "metadata": {},
   "outputs": [
    {
     "name": "stdout",
     "output_type": "stream",
     "text": [
      "1\n",
      "2\n",
      "3\n",
      "4\n",
      "5\n",
      "6\n",
      "7\n",
      "8\n",
      "9\n",
      "10\n"
     ]
    }
   ],
   "source": [
    "for i in range(1,11):\n",
    "    print(i)"
   ]
  },
  {
   "cell_type": "code",
   "execution_count": 29,
   "id": "breathing-missouri",
   "metadata": {},
   "outputs": [
    {
     "name": "stdout",
     "output_type": "stream",
     "text": [
      "1\n",
      "2\n",
      "3\n",
      "4\n",
      "5\n",
      "6\n",
      "7\n",
      "8\n",
      "9\n",
      "10\n"
     ]
    }
   ],
   "source": [
    "i=1\n",
    "while i<11 :\n",
    "    print(i)\n",
    "    i=i+1"
   ]
  },
  {
   "cell_type": "markdown",
   "id": "fifteen-concern",
   "metadata": {},
   "source": [
    "### 14. If you had a bacon() function within a spam module, how  would you call it after importing spam?"
   ]
  },
  {
   "cell_type": "markdown",
   "id": "tropical-medicine",
   "metadata": {},
   "source": [
    "##### import the module and call the function \n",
    "    import spam\n",
    "    spam.bacon()\n",
    "\n",
    "            or\n",
    "            \n",
    "    import spam as a\n",
    "    a.bacon()"
   ]
  },
  {
   "cell_type": "code",
   "execution_count": 30,
   "id": "encouraging-retro",
   "metadata": {},
   "outputs": [
    {
     "data": {
      "text/plain": [
       "array([1, 2, 3, 4, 5])"
      ]
     },
     "execution_count": 30,
     "metadata": {},
     "output_type": "execute_result"
    }
   ],
   "source": [
    "# Example:\n",
    "import numpy as np\n",
    "np.array([1, 2, 3, 4, 5])"
   ]
  },
  {
   "cell_type": "code",
   "execution_count": null,
   "id": "fallen-department",
   "metadata": {},
   "outputs": [],
   "source": []
  }
 ],
 "metadata": {
  "kernelspec": {
   "display_name": "Python 3",
   "language": "python",
   "name": "python3"
  },
  "language_info": {
   "codemirror_mode": {
    "name": "ipython",
    "version": 3
   },
   "file_extension": ".py",
   "mimetype": "text/x-python",
   "name": "python",
   "nbconvert_exporter": "python",
   "pygments_lexer": "ipython3",
   "version": "3.8.8"
  }
 },
 "nbformat": 4,
 "nbformat_minor": 5
}
